{
 "cells": [
  {
   "cell_type": "markdown",
   "id": "b2aa57f2",
   "metadata": {},
   "source": [
    "# Assignment 13 Solutions"
   ]
  },
  {
   "cell_type": "markdown",
   "id": "111120c6",
   "metadata": {},
   "source": [
    "##### 1. Provide an example of the concepts of Prior, Posterior, and Likelihood ?"
   ]
  },
  {
   "attachments": {},
   "cell_type": "markdown",
   "id": "6a5e6747",
   "metadata": {},
   "source": [
    "#### Ans-\n",
    "Posterior = Prior * Likelihood\n",
    "\n",
    "This can also be stated as P (A | B) = (P (B | A) * P(A)) / P(B) , where P(A|B) is the probability of A given B, also called posterior.\n",
    "\n",
    "Prior: Probability distribution representing knowledge or uncertainty of a data object prior or before observing it\n",
    "\n",
    "Posterior: Conditional probability distribution representing what parameters are likely after observing the data object\n",
    "\n",
    "Likelihood: The probability of falling under a specific category or class."
   ]
  },
  {
   "cell_type": "markdown",
   "id": "4ae857d4",
   "metadata": {},
   "source": [
    "##### 2. What role does Bayes' theorem play in the concept learning principle ?"
   ]
  },
  {
   "cell_type": "markdown",
   "id": "4a3b8ef7",
   "metadata": {},
   "source": [
    "#### Ans-\n",
    "The Bayes Theorem is a method for calculating conditional probabilities, or the likelihood of one event occurring if another has previously occurred. A conditional probability can lead to more accurate outcomes by including extra conditions — in other words, more data."
   ]
  },
  {
   "cell_type": "markdown",
   "id": "c981ac1e",
   "metadata": {},
   "source": [
    "##### 3. Offer an example of how the Nave Bayes classifier is used in real life ?"
   ]
  },
  {
   "cell_type": "markdown",
   "id": "555955f2",
   "metadata": {},
   "source": [
    "#### Ans-\n",
    "Naive Bayes easily sorts out spam using keywords. For example, in spam, you can see the word 'viagra' much more often than in regular mail. The algorithm must be trained to recognize such probabilities and, then, it can efficiently apply them for spam filtering. Sentiment analysis."
   ]
  },
  {
   "cell_type": "markdown",
   "id": "07ab2a64",
   "metadata": {},
   "source": [
    "##### 4. Can the Nave Bayes classifier be used on continuous numeric data? If so, how can you go about doing it ?"
   ]
  },
  {
   "attachments": {},
   "cell_type": "markdown",
   "id": "cd16a0f3",
   "metadata": {},
   "source": [
    "#### Ans-\n",
    "We perform classification using Naive Bayes when the data we have is continuous in nature. If an instance in test data set has a category that was not present during training then it will assign it “Zero” probability and won't be able to make prediction. This is known as Zero frequency problem."
   ]
  },
  {
   "cell_type": "markdown",
   "id": "0be2162e",
   "metadata": {},
   "source": [
    "##### 5. What are Bayesian Belief Networks, and how do they work? What are their applications? Are they capable of resolving a wide range of issues ?"
   ]
  },
  {
   "cell_type": "markdown",
   "id": "92a4568c",
   "metadata": {},
   "source": [
    "#### Ans-\n",
    "Bayesian Belief Network is a graphical representation of different probabilistic relationships among random variables in a particular set.\n",
    "Bayesian network models capture both conditionally dependent and conditionally independent relationships between random variables. Models can be prepared by experts or learned from data, then used for inference to estimate the probabilities for causal or subsequent events.\n",
    "Bayesian Networks are tools used for reasoning and modeling based on uncertain beliefs.\n",
    "A Bayesian network is a type of graphical model that uses probability to determine the occurrence of an event. It is also known as a belief network or a causal network. It consists of directed cyclic graphs (DCGs) and a table of conditional probabilities to find out the probability of an event happening."
   ]
  },
  {
   "cell_type": "markdown",
   "id": "a96163dd",
   "metadata": {},
   "source": [
    "##### 6. Passengers are checked in an airport screening system to see if there is an intruder. Let I be the random variable that indicates whether someone is an intruder I = 1) or not I = 0), and A be the variable that indicates alarm I = 0). If an intruder is detected with probability P(A = 1|I = 1) = 0.98 and a non-intruder is detected with probability P(A = 1|I = 0) = 0.001, an alarm will be triggered, implying the error factor. The likelihood of an intruder in the passenger population is P(I = 1) = 0.00001. What are the chances that an alarm would be triggered when an individual is actually an intruder ?"
   ]
  },
  {
   "attachments": {},
   "cell_type": "markdown",
   "id": "0907fa52",
   "metadata": {},
   "source": [
    "#### Ans-\n",
    "P(T = 1|A = 1) = P(A = 1|T = 1)P(T = 1) / P(A = 1) \n",
    "    =P(A = 1|T = 1)P(T = 1) / {P(A = 1|T = 1)P(T = 1) + P(A = 1|T = 0)P(T = 0)}\n",
    "    =0.98 × 0.00001 / {0.98 × 0.00001 + 0.001 × (1 − 0.00001)}\n",
    "    =0.0097 \n",
    "\n",
    "      ≈0.00001 / 0.001 = 0.01 "
   ]
  },
  {
   "cell_type": "markdown",
   "id": "6b3b649e",
   "metadata": {},
   "source": [
    "##### 7. An antibiotic resistance test (random variable T) has 1% false positives (i.e., 1% of those who are not immune to an antibiotic display a positive result in the test) and 5% false negatives (i.e., 1% of those who are not resistant to an antibiotic show a positive result in the test) (i.e. 5 percent of those actually resistant to an antibiotic test negative). Assume that 2% of those who were screened were antibiotic-resistant. Calculate the likelihood that a person who tests positive is actually immune (random variable D) ?"
   ]
  },
  {
   "cell_type": "code",
   "execution_count": null,
   "id": "1aa7a520",
   "metadata": {},
   "outputs": [],
   "source": []
  },
  {
   "cell_type": "markdown",
   "id": "54020cf8",
   "metadata": {},
   "source": [
    "##### 8. In order to prepare for the test, a student knows that there will be one question in the exam that is either form A, B, or C. The chances of getting an A, B, or C on the exam are 30 percent, 20%, and 50 percent, respectively. During the planning, the student solved 9 of 10 type A problems, 2 of 10 type B problems, and 6 of 10 type C problems.\n",
    "1. What is the likelihood that the student can solve the exam problem?\n",
    "2. Given the student's solution, what is the likelihood that the problem was of form A?"
   ]
  },
  {
   "cell_type": "code",
   "execution_count": null,
   "id": "1cdd0e0d",
   "metadata": {},
   "outputs": [],
   "source": []
  },
  {
   "cell_type": "markdown",
   "id": "9db681d1",
   "metadata": {},
   "source": [
    "##### 9. A bank installs a CCTV system to track and photograph incoming customers. Despite the constant influx of customers, we divide the timeline into 5 minute bins. There may be a customer coming into the bank with a 5% chance in each 5-minute time period, or there may be no customer (again, for simplicity, we assume that either there is 1 customer or none, not the case of multiple customers). If there is a client, the CCTV will detect them with a 99 percent probability. If there is no customer, the camera can take a false photograph with a 10% chance of detecting movement from other objects.\n",
    "1. How many customers come into the bank on a daily basis (10 hours)?\n",
    "2. On a daily basis, how many fake photographs (photographs taken when there is no customer) and how many missed photographs (photographs taken when there is a customer) are there?\n",
    "3. Explain likelihood that there is a customer if there is a photograph?"
   ]
  },
  {
   "cell_type": "code",
   "execution_count": null,
   "id": "10515406",
   "metadata": {},
   "outputs": [],
   "source": []
  },
  {
   "cell_type": "markdown",
   "id": "5b686929",
   "metadata": {},
   "source": [
    "##### 10. Create the conditional probability table associated with the node Won Toss in the Bayesian Belief network to represent the conditional independence assumptions of the Nave Bayes classifier for the match winning prediction problem in Section 6.4.4.?"
   ]
  },
  {
   "cell_type": "code",
   "execution_count": null,
   "id": "09f53038",
   "metadata": {},
   "outputs": [],
   "source": []
  }
 ],
 "metadata": {
  "kernelspec": {
   "display_name": "Python 3",
   "language": "python",
   "name": "python3"
  },
  "language_info": {
   "codemirror_mode": {
    "name": "ipython",
    "version": 3
   },
   "file_extension": ".py",
   "mimetype": "text/x-python",
   "name": "python",
   "nbconvert_exporter": "python",
   "pygments_lexer": "ipython3",
   "version": "3.8.8"
  }
 },
 "nbformat": 4,
 "nbformat_minor": 5
}
